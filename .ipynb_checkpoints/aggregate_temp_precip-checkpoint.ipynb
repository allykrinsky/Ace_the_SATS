{
 "cells": [
  {
   "cell_type": "code",
   "execution_count": 1,
   "id": "5b9dbba3",
   "metadata": {},
   "outputs": [],
   "source": [
    "import pandas as pd"
   ]
  },
  {
   "cell_type": "code",
   "execution_count": 4,
   "id": "4fdf0bec",
   "metadata": {},
   "outputs": [],
   "source": [
    "df = pd.read_csv('seasonal_disparities_20th_century.csv')"
   ]
  },
  {
   "cell_type": "code",
   "execution_count": 5,
   "id": "b39e599a",
   "metadata": {},
   "outputs": [
    {
     "data": {
      "text/html": [
       "<div>\n",
       "<style scoped>\n",
       "    .dataframe tbody tr th:only-of-type {\n",
       "        vertical-align: middle;\n",
       "    }\n",
       "\n",
       "    .dataframe tbody tr th {\n",
       "        vertical-align: top;\n",
       "    }\n",
       "\n",
       "    .dataframe thead th {\n",
       "        text-align: right;\n",
       "    }\n",
       "</style>\n",
       "<table border=\"1\" class=\"dataframe\">\n",
       "  <thead>\n",
       "    <tr style=\"text-align: right;\">\n",
       "      <th></th>\n",
       "      <th>FIPSCode</th>\n",
       "      <th>YEAR</th>\n",
       "      <th>Season</th>\n",
       "      <th>TEMPERATURE_MA</th>\n",
       "      <th>TEMPERATURE_DEVIATION_STDDEV</th>\n",
       "      <th>TEMPERATURE_INDEX</th>\n",
       "      <th>PRECIPITATION_MA</th>\n",
       "      <th>PRECIPITATION_DEVIATION_STDDEV</th>\n",
       "      <th>PRECIPITATION_INDEX</th>\n",
       "    </tr>\n",
       "  </thead>\n",
       "  <tbody>\n",
       "    <tr>\n",
       "      <th>0</th>\n",
       "      <td>6001</td>\n",
       "      <td>2021</td>\n",
       "      <td>Summer</td>\n",
       "      <td>68.7</td>\n",
       "      <td>1.847292</td>\n",
       "      <td>Normal</td>\n",
       "      <td>0.00</td>\n",
       "      <td>-0.686548</td>\n",
       "      <td>Normal</td>\n",
       "    </tr>\n",
       "    <tr>\n",
       "      <th>1</th>\n",
       "      <td>6005</td>\n",
       "      <td>2021</td>\n",
       "      <td>Winter</td>\n",
       "      <td>42.6</td>\n",
       "      <td>-0.506057</td>\n",
       "      <td>Normal</td>\n",
       "      <td>12.34</td>\n",
       "      <td>1.702105</td>\n",
       "      <td>Normal</td>\n",
       "    </tr>\n",
       "    <tr>\n",
       "      <th>2</th>\n",
       "      <td>6009</td>\n",
       "      <td>2021</td>\n",
       "      <td>Winter</td>\n",
       "      <td>42.6</td>\n",
       "      <td>-0.542606</td>\n",
       "      <td>Normal</td>\n",
       "      <td>10.80</td>\n",
       "      <td>1.422228</td>\n",
       "      <td>Normal</td>\n",
       "    </tr>\n",
       "    <tr>\n",
       "      <th>3</th>\n",
       "      <td>6019</td>\n",
       "      <td>2021</td>\n",
       "      <td>Winter</td>\n",
       "      <td>41.0</td>\n",
       "      <td>0.454152</td>\n",
       "      <td>Normal</td>\n",
       "      <td>6.96</td>\n",
       "      <td>1.639776</td>\n",
       "      <td>Normal</td>\n",
       "    </tr>\n",
       "    <tr>\n",
       "      <th>4</th>\n",
       "      <td>6029</td>\n",
       "      <td>2021</td>\n",
       "      <td>Summer</td>\n",
       "      <td>79.3</td>\n",
       "      <td>2.528477</td>\n",
       "      <td>Hotter</td>\n",
       "      <td>0.05</td>\n",
       "      <td>-0.067581</td>\n",
       "      <td>Normal</td>\n",
       "    </tr>\n",
       "  </tbody>\n",
       "</table>\n",
       "</div>"
      ],
      "text/plain": [
       "   FIPSCode  YEAR  Season  TEMPERATURE_MA  TEMPERATURE_DEVIATION_STDDEV  \\\n",
       "0      6001  2021  Summer            68.7                      1.847292   \n",
       "1      6005  2021  Winter            42.6                     -0.506057   \n",
       "2      6009  2021  Winter            42.6                     -0.542606   \n",
       "3      6019  2021  Winter            41.0                      0.454152   \n",
       "4      6029  2021  Summer            79.3                      2.528477   \n",
       "\n",
       "  TEMPERATURE_INDEX  PRECIPITATION_MA  PRECIPITATION_DEVIATION_STDDEV  \\\n",
       "0            Normal              0.00                       -0.686548   \n",
       "1            Normal             12.34                        1.702105   \n",
       "2            Normal             10.80                        1.422228   \n",
       "3            Normal              6.96                        1.639776   \n",
       "4            Hotter              0.05                       -0.067581   \n",
       "\n",
       "  PRECIPITATION_INDEX  \n",
       "0              Normal  \n",
       "1              Normal  \n",
       "2              Normal  \n",
       "3              Normal  \n",
       "4              Normal  "
      ]
     },
     "execution_count": 5,
     "metadata": {},
     "output_type": "execute_result"
    }
   ],
   "source": [
    "df.head()"
   ]
  },
  {
   "cell_type": "code",
   "execution_count": 10,
   "id": "3acbb023",
   "metadata": {},
   "outputs": [
    {
     "data": {
      "text/html": [
       "<div>\n",
       "<style scoped>\n",
       "    .dataframe tbody tr th:only-of-type {\n",
       "        vertical-align: middle;\n",
       "    }\n",
       "\n",
       "    .dataframe tbody tr th {\n",
       "        vertical-align: top;\n",
       "    }\n",
       "\n",
       "    .dataframe thead th {\n",
       "        text-align: right;\n",
       "    }\n",
       "</style>\n",
       "<table border=\"1\" class=\"dataframe\">\n",
       "  <thead>\n",
       "    <tr style=\"text-align: right;\">\n",
       "      <th></th>\n",
       "      <th>FIPSCode</th>\n",
       "      <th>YEAR</th>\n",
       "      <th>Season</th>\n",
       "      <th>TEMPERATURE_MA</th>\n",
       "      <th>PRECIPITATION_MA</th>\n",
       "    </tr>\n",
       "  </thead>\n",
       "  <tbody>\n",
       "    <tr>\n",
       "      <th>0</th>\n",
       "      <td>6001</td>\n",
       "      <td>2021</td>\n",
       "      <td>Summer</td>\n",
       "      <td>68.7</td>\n",
       "      <td>0.00</td>\n",
       "    </tr>\n",
       "    <tr>\n",
       "      <th>1</th>\n",
       "      <td>6005</td>\n",
       "      <td>2021</td>\n",
       "      <td>Winter</td>\n",
       "      <td>42.6</td>\n",
       "      <td>12.34</td>\n",
       "    </tr>\n",
       "    <tr>\n",
       "      <th>2</th>\n",
       "      <td>6009</td>\n",
       "      <td>2021</td>\n",
       "      <td>Winter</td>\n",
       "      <td>42.6</td>\n",
       "      <td>10.80</td>\n",
       "    </tr>\n",
       "    <tr>\n",
       "      <th>3</th>\n",
       "      <td>6019</td>\n",
       "      <td>2021</td>\n",
       "      <td>Winter</td>\n",
       "      <td>41.0</td>\n",
       "      <td>6.96</td>\n",
       "    </tr>\n",
       "    <tr>\n",
       "      <th>4</th>\n",
       "      <td>6029</td>\n",
       "      <td>2021</td>\n",
       "      <td>Summer</td>\n",
       "      <td>79.3</td>\n",
       "      <td>0.05</td>\n",
       "    </tr>\n",
       "  </tbody>\n",
       "</table>\n",
       "</div>"
      ],
      "text/plain": [
       "   FIPSCode  YEAR  Season  TEMPERATURE_MA  PRECIPITATION_MA\n",
       "0      6001  2021  Summer            68.7              0.00\n",
       "1      6005  2021  Winter            42.6             12.34\n",
       "2      6009  2021  Winter            42.6             10.80\n",
       "3      6019  2021  Winter            41.0              6.96\n",
       "4      6029  2021  Summer            79.3              0.05"
      ]
     },
     "execution_count": 10,
     "metadata": {},
     "output_type": "execute_result"
    }
   ],
   "source": [
    "df2 = df[['FIPSCode','YEAR', 'Season', 'TEMPERATURE_MA', 'PRECIPITATION_MA']]\n",
    "df2.head()"
   ]
  },
  {
   "cell_type": "code",
   "execution_count": 11,
   "id": "4aad6a1f",
   "metadata": {},
   "outputs": [
    {
     "data": {
      "text/plain": [
       "array([2021, 2020, 2019, 2018, 2017, 2016, 2015, 2014, 2005, 2013, 2012,\n",
       "       2004, 2003, 2011, 2002, 2010, 2009, 2001, 2000, 2008, 2007, 2006])"
      ]
     },
     "execution_count": 11,
     "metadata": {},
     "output_type": "execute_result"
    }
   ],
   "source": [
    "df2.YEAR.unique()"
   ]
  },
  {
   "cell_type": "code",
   "execution_count": 17,
   "id": "a96c09dc",
   "metadata": {},
   "outputs": [
    {
     "data": {
      "text/plain": [
       "array([ 6001,  6005,  6009, ..., 54085, 54091, 54099])"
      ]
     },
     "execution_count": 17,
     "metadata": {},
     "output_type": "execute_result"
    }
   ],
   "source": [
    "df2.FIPSCode.unique()"
   ]
  },
  {
   "cell_type": "code",
   "execution_count": 40,
   "id": "fded015a",
   "metadata": {},
   "outputs": [],
   "source": [
    "fips = df2.groupby(df2.FIPSCode)"
   ]
  },
  {
   "cell_type": "code",
   "execution_count": 41,
   "id": "dd2758cc",
   "metadata": {},
   "outputs": [],
   "source": [
    "fips_mean = df2.groupby(df2.FIPSCode).mean()"
   ]
  },
  {
   "cell_type": "code",
   "execution_count": 50,
   "id": "b7f94001",
   "metadata": {},
   "outputs": [],
   "source": [
    "precip_change = {}\n",
    "temp_change = {}\n",
    "for dfs in fips:\n",
    "    fips = dfs[0]\n",
    "    df = dfs[1] #get the df\n",
    "    \n",
    "    precip = df.PRECIPITATION_MA.pct_change()\n",
    "    precip_change[fips] = precip\n",
    "    \n",
    "    temp = df.TEMPERATURE_MA.pct_change()\n",
    "    temp_change[fips] = temp"
   ]
  },
  {
   "cell_type": "code",
   "execution_count": 52,
   "id": "9a95d270",
   "metadata": {},
   "outputs": [
    {
     "data": {
      "text/plain": [
       "48819         NaN\n",
       "48891    1.782609\n",
       "49294   -0.586648\n",
       "49457    1.281787\n",
       "50133   -0.072289\n",
       "50164   -0.550325\n",
       "50593    1.342960\n",
       "50632   -0.624037\n",
       "51294   -0.127049\n",
       "51319    2.018779\n",
       "52048    0.085537\n",
       "52082   -0.805158\n",
       "52516    0.801471\n",
       "52554    1.685714\n",
       "53110   -0.083587\n",
       "53157   -0.573798\n",
       "53887    1.478599\n",
       "53920   -0.725275\n",
       "54523    0.188571\n",
       "54666    2.038462\n",
       "55136    0.096519\n",
       "55137   -0.655123\n",
       "55951    1.514644\n",
       "56117   -0.542429\n",
       "56611    1.152727\n",
       "56840   -0.552365\n",
       "57266    1.316981\n",
       "57290   -0.610749\n",
       "57805   -0.050209\n",
       "57950    1.709251\n",
       "58476    0.086179\n",
       "58546   -0.579341\n",
       "59159   -0.131673\n",
       "59497    1.610656\n",
       "60009   -0.061224\n",
       "60089    0.033445\n",
       "60166   -0.736246\n",
       "60167   -0.147239\n",
       "60634    3.330935\n",
       "60725   -0.714286\n",
       "61318    2.802326\n",
       "61354   -0.717125\n",
       "61806    0.448649\n",
       "61858    1.522388\n",
       "Name: TEMPERATURE_MA, dtype: float64"
      ]
     },
     "execution_count": 52,
     "metadata": {},
     "output_type": "execute_result"
    }
   ],
   "source": [
    "temp"
   ]
  },
  {
   "cell_type": "code",
   "execution_count": null,
   "id": "00273311",
   "metadata": {},
   "outputs": [],
   "source": []
  }
 ],
 "metadata": {
  "kernelspec": {
   "display_name": "Python 3",
   "language": "python",
   "name": "python3"
  },
  "language_info": {
   "codemirror_mode": {
    "name": "ipython",
    "version": 3
   },
   "file_extension": ".py",
   "mimetype": "text/x-python",
   "name": "python",
   "nbconvert_exporter": "python",
   "pygments_lexer": "ipython3",
   "version": "3.7.10"
  }
 },
 "nbformat": 4,
 "nbformat_minor": 5
}
