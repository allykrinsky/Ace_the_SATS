{
 "cells": [
  {
   "cell_type": "code",
   "execution_count": 8,
   "id": "662b471f",
   "metadata": {},
   "outputs": [],
   "source": [
    "import pandas as pd\n",
    "import sklearn as sk\n",
    "import matplotlib.pyplot as plt"
   ]
  },
  {
   "cell_type": "code",
   "execution_count": 2,
   "id": "b1c81b41",
   "metadata": {},
   "outputs": [
    {
     "data": {
      "text/plain": [
       "'/Users/ally/Desktop/projects/capstone'"
      ]
     },
     "execution_count": 2,
     "metadata": {},
     "output_type": "execute_result"
    }
   ],
   "source": [
    "pwd"
   ]
  },
  {
   "cell_type": "code",
   "execution_count": 3,
   "id": "62408eff",
   "metadata": {},
   "outputs": [],
   "source": [
    "df = pd.read_csv('seasonal_disparities_20th_century.csv')"
   ]
  },
  {
   "cell_type": "code",
   "execution_count": 4,
   "id": "86faaeb9",
   "metadata": {},
   "outputs": [
    {
     "data": {
      "text/html": [
       "<div>\n",
       "<style scoped>\n",
       "    .dataframe tbody tr th:only-of-type {\n",
       "        vertical-align: middle;\n",
       "    }\n",
       "\n",
       "    .dataframe tbody tr th {\n",
       "        vertical-align: top;\n",
       "    }\n",
       "\n",
       "    .dataframe thead th {\n",
       "        text-align: right;\n",
       "    }\n",
       "</style>\n",
       "<table border=\"1\" class=\"dataframe\">\n",
       "  <thead>\n",
       "    <tr style=\"text-align: right;\">\n",
       "      <th></th>\n",
       "      <th>FIPSCode</th>\n",
       "      <th>YEAR</th>\n",
       "      <th>Season</th>\n",
       "      <th>TEMPERATURE_MA</th>\n",
       "      <th>TEMPERATURE_DEVIATION_STDDEV</th>\n",
       "      <th>TEMPERATURE_INDEX</th>\n",
       "      <th>PRECIPITATION_MA</th>\n",
       "      <th>PRECIPITATION_DEVIATION_STDDEV</th>\n",
       "      <th>PRECIPITATION_INDEX</th>\n",
       "    </tr>\n",
       "  </thead>\n",
       "  <tbody>\n",
       "    <tr>\n",
       "      <th>0</th>\n",
       "      <td>6001</td>\n",
       "      <td>2021</td>\n",
       "      <td>Summer</td>\n",
       "      <td>68.7</td>\n",
       "      <td>1.847292</td>\n",
       "      <td>Normal</td>\n",
       "      <td>0.00</td>\n",
       "      <td>-0.686548</td>\n",
       "      <td>Normal</td>\n",
       "    </tr>\n",
       "    <tr>\n",
       "      <th>1</th>\n",
       "      <td>6005</td>\n",
       "      <td>2021</td>\n",
       "      <td>Winter</td>\n",
       "      <td>42.6</td>\n",
       "      <td>-0.506057</td>\n",
       "      <td>Normal</td>\n",
       "      <td>12.34</td>\n",
       "      <td>1.702105</td>\n",
       "      <td>Normal</td>\n",
       "    </tr>\n",
       "    <tr>\n",
       "      <th>2</th>\n",
       "      <td>6009</td>\n",
       "      <td>2021</td>\n",
       "      <td>Winter</td>\n",
       "      <td>42.6</td>\n",
       "      <td>-0.542606</td>\n",
       "      <td>Normal</td>\n",
       "      <td>10.80</td>\n",
       "      <td>1.422228</td>\n",
       "      <td>Normal</td>\n",
       "    </tr>\n",
       "    <tr>\n",
       "      <th>3</th>\n",
       "      <td>6019</td>\n",
       "      <td>2021</td>\n",
       "      <td>Winter</td>\n",
       "      <td>41.0</td>\n",
       "      <td>0.454152</td>\n",
       "      <td>Normal</td>\n",
       "      <td>6.96</td>\n",
       "      <td>1.639776</td>\n",
       "      <td>Normal</td>\n",
       "    </tr>\n",
       "    <tr>\n",
       "      <th>4</th>\n",
       "      <td>6029</td>\n",
       "      <td>2021</td>\n",
       "      <td>Summer</td>\n",
       "      <td>79.3</td>\n",
       "      <td>2.528477</td>\n",
       "      <td>Hotter</td>\n",
       "      <td>0.05</td>\n",
       "      <td>-0.067581</td>\n",
       "      <td>Normal</td>\n",
       "    </tr>\n",
       "  </tbody>\n",
       "</table>\n",
       "</div>"
      ],
      "text/plain": [
       "   FIPSCode  YEAR  Season  TEMPERATURE_MA  TEMPERATURE_DEVIATION_STDDEV  \\\n",
       "0      6001  2021  Summer            68.7                      1.847292   \n",
       "1      6005  2021  Winter            42.6                     -0.506057   \n",
       "2      6009  2021  Winter            42.6                     -0.542606   \n",
       "3      6019  2021  Winter            41.0                      0.454152   \n",
       "4      6029  2021  Summer            79.3                      2.528477   \n",
       "\n",
       "  TEMPERATURE_INDEX  PRECIPITATION_MA  PRECIPITATION_DEVIATION_STDDEV  \\\n",
       "0            Normal              0.00                       -0.686548   \n",
       "1            Normal             12.34                        1.702105   \n",
       "2            Normal             10.80                        1.422228   \n",
       "3            Normal              6.96                        1.639776   \n",
       "4            Hotter              0.05                       -0.067581   \n",
       "\n",
       "  PRECIPITATION_INDEX  \n",
       "0              Normal  \n",
       "1              Normal  \n",
       "2              Normal  \n",
       "3              Normal  \n",
       "4              Normal  "
      ]
     },
     "execution_count": 4,
     "metadata": {},
     "output_type": "execute_result"
    }
   ],
   "source": [
    "df.head()"
   ]
  },
  {
   "cell_type": "code",
   "execution_count": 5,
   "id": "cbd22adf",
   "metadata": {},
   "outputs": [
    {
     "data": {
      "text/plain": [
       "Index(['FIPSCode', 'YEAR', 'Season', 'TEMPERATURE_MA',\n",
       "       'TEMPERATURE_DEVIATION_STDDEV', 'TEMPERATURE_INDEX', 'PRECIPITATION_MA',\n",
       "       'PRECIPITATION_DEVIATION_STDDEV', 'PRECIPITATION_INDEX'],\n",
       "      dtype='object')"
      ]
     },
     "execution_count": 5,
     "metadata": {},
     "output_type": "execute_result"
    }
   ],
   "source": [
    "df.columns"
   ]
  },
  {
   "cell_type": "code",
   "execution_count": 17,
   "id": "cfe6923c",
   "metadata": {},
   "outputs": [
    {
     "data": {
      "text/plain": [
       "array(['Normal', 'Hotter', 'Cooler'], dtype=object)"
      ]
     },
     "execution_count": 17,
     "metadata": {},
     "output_type": "execute_result"
    }
   ],
   "source": [
    "df.TEMPERATURE_INDEX.unique()"
   ]
  },
  {
   "cell_type": "code",
   "execution_count": 14,
   "id": "2aec65ef",
   "metadata": {},
   "outputs": [
    {
     "data": {
      "text/plain": [
       "3140"
      ]
     },
     "execution_count": 14,
     "metadata": {},
     "output_type": "execute_result"
    }
   ],
   "source": [
    "len(df.FIPSCode.unique())"
   ]
  },
  {
   "cell_type": "code",
   "execution_count": 21,
   "id": "c714c20c",
   "metadata": {},
   "outputs": [],
   "source": [
    "colors = {'Hotter': 'red', 'Cooler': 'blue', 'Normal':'grey'}"
   ]
  },
  {
   "cell_type": "code",
   "execution_count": 23,
   "id": "d475eab6",
   "metadata": {},
   "outputs": [
    {
     "data": {
      "image/png": "[encoded data removed]",
      "text/plain": [
       "<Figure size 432x288 with 1 Axes>"
      ]
     },
     "metadata": {
      "needs_background": "light"
     },
     "output_type": "display_data"
    }
   ],
   "source": [
    "_ = plt.scatter(df.YEAR, df.TEMPERATURE_MA, color=df.TEMPERATURE_INDEX.map(colors))"
   ]
  },
  {
   "cell_type": "code",
   "execution_count": 30,
   "id": "a59b980c",
   "metadata": {},
   "outputs": [
    {
     "name": "stderr",
     "output_type": "stream",
     "text": [
      "/Users/ally/anaconda3/lib/python3.7/site-packages/openpyxl/worksheet/_reader.py:312: UserWarning: Unknown extension is not supported and will be removed\n",
      "  warn(msg)\n"
     ]
    }
   ],
   "source": [
    "fips_df = pd.read_excel('County-Type-Share.xlsx', sheet_name='Sheet1')"
   ]
  },
  {
   "cell_type": "code",
   "execution_count": 44,
   "id": "12d46ec7",
   "metadata": {},
   "outputs": [
    {
     "data": {
      "text/plain": [
       "0                     Exurbs\n",
       "1            Graying America\n",
       "2     African American South\n",
       "3           Evangelical Hubs\n",
       "4      Working Class Country\n",
       "5             Military Posts\n",
       "6              Urban Suburbs\n",
       "7           Hispanic Centers\n",
       "8      Native American Lands\n",
       "9       Rural Middle America\n",
       "10             College Towns\n",
       "11              LDS Enclaves\n",
       "12           Aging Farmlands\n",
       "13                Big Cities\n",
       "14            Middle Suburbs\n",
       "Name: New Names, dtype: object"
      ]
     },
     "execution_count": 44,
     "metadata": {},
     "output_type": "execute_result"
    }
   ],
   "source": [
    "fips = pd.read_excel('County-Type-Share.xlsx', sheet_name='Sheet2')\n",
    "fips = fips.to_dict('series')['New Names']\n",
    "fips"
   ]
  },
  {
   "cell_type": "code",
   "execution_count": 45,
   "id": "a7191c38",
   "metadata": {},
   "outputs": [],
   "source": [
    "fips_dict = dict(fips)"
   ]
  },
  {
   "cell_type": "code",
   "execution_count": 34,
   "id": "aacb1512",
   "metadata": {},
   "outputs": [
    {
     "data": {
      "text/html": [
       "<div>\n",
       "<style scoped>\n",
       "    .dataframe tbody tr th:only-of-type {\n",
       "        vertical-align: middle;\n",
       "    }\n",
       "\n",
       "    .dataframe tbody tr th {\n",
       "        vertical-align: top;\n",
       "    }\n",
       "\n",
       "    .dataframe thead th {\n",
       "        text-align: right;\n",
       "    }\n",
       "</style>\n",
       "<table border=\"1\" class=\"dataframe\">\n",
       "  <thead>\n",
       "    <tr style=\"text-align: right;\">\n",
       "      <th></th>\n",
       "      <th>County</th>\n",
       "      <th>Type Number</th>\n",
       "      <th>FIPS</th>\n",
       "    </tr>\n",
       "  </thead>\n",
       "  <tbody>\n",
       "    <tr>\n",
       "      <th>0</th>\n",
       "      <td>Autauga AL</td>\n",
       "      <td>1</td>\n",
       "      <td>1001</td>\n",
       "    </tr>\n",
       "    <tr>\n",
       "      <th>1</th>\n",
       "      <td>Elmore AL</td>\n",
       "      <td>1</td>\n",
       "      <td>1051</td>\n",
       "    </tr>\n",
       "    <tr>\n",
       "      <th>2</th>\n",
       "      <td>Limestone AL</td>\n",
       "      <td>1</td>\n",
       "      <td>1083</td>\n",
       "    </tr>\n",
       "    <tr>\n",
       "      <th>3</th>\n",
       "      <td>St. Clair AL</td>\n",
       "      <td>1</td>\n",
       "      <td>1115</td>\n",
       "    </tr>\n",
       "    <tr>\n",
       "      <th>4</th>\n",
       "      <td>Shelby AL</td>\n",
       "      <td>1</td>\n",
       "      <td>1117</td>\n",
       "    </tr>\n",
       "  </tbody>\n",
       "</table>\n",
       "</div>"
      ],
      "text/plain": [
       "         County  Type Number  FIPS\n",
       "0    Autauga AL            1  1001\n",
       "1     Elmore AL            1  1051\n",
       "2  Limestone AL            1  1083\n",
       "3  St. Clair AL            1  1115\n",
       "4     Shelby AL            1  1117"
      ]
     },
     "execution_count": 34,
     "metadata": {},
     "output_type": "execute_result"
    }
   ],
   "source": [
    "fips_df = fips_df[['County', 'Type Number', 'FIPS']]\n",
    "fips_df.head()"
   ]
  },
  {
   "cell_type": "code",
   "execution_count": 52,
   "id": "7216be6e",
   "metadata": {},
   "outputs": [],
   "source": [
    "df_merge = df.merge(fips_df, left_on='FIPSCode', right_on='FIPS')"
   ]
  },
  {
   "cell_type": "code",
   "execution_count": 55,
   "id": "629d649c",
   "metadata": {},
   "outputs": [
    {
     "data": {
      "text/plain": [
       "3143"
      ]
     },
     "execution_count": 55,
     "metadata": {},
     "output_type": "execute_result"
    }
   ],
   "source": [
    "len(fips_df)"
   ]
  },
  {
   "cell_type": "code",
   "execution_count": 64,
   "id": "a7e28584",
   "metadata": {},
   "outputs": [],
   "source": [
    "df_merge = df_merge.dropna()"
   ]
  },
  {
   "cell_type": "code",
   "execution_count": 89,
   "id": "589d27ed",
   "metadata": {},
   "outputs": [],
   "source": [
    "import random\n",
    "\n",
    "number_of_colors = len(fips_dict)\n",
    "\n",
    "color = [\"#\"+''.join([random.choice('0123456789ABCDEF') for j in range(6)])\n",
    "             for i in range(number_of_colors)]\n",
    "\n",
    "col = {}\n",
    "for i in range(len(color)):\n",
    "    col[i] = color[i]"
   ]
  },
  {
   "cell_type": "code",
   "execution_count": 87,
   "id": "d0aeb2fb",
   "metadata": {},
   "outputs": [
    {
     "data": {
      "text/plain": [
       "0         #C65A27\n",
       "1         #C65A27\n",
       "2         #C65A27\n",
       "3         #C65A27\n",
       "4         #C65A27\n",
       "           ...   \n",
       "138154    #926DDB\n",
       "138155    #926DDB\n",
       "138156    #926DDB\n",
       "138157    #926DDB\n",
       "138158    #926DDB\n",
       "Name: Type Number, Length: 138158, dtype: object"
      ]
     },
     "execution_count": 87,
     "metadata": {},
     "output_type": "execute_result"
    }
   ],
   "source": [
    "df_merge['Type Number'].map(c)"
   ]
  },
  {
   "cell_type": "code",
   "execution_count": 100,
   "id": "362d43b5",
   "metadata": {},
   "outputs": [
    {
     "data": {
      "image/png": "[encoded data removed]",
      "text/plain": [
       "<Figure size 432x288 with 1 Axes>"
      ]
     },
     "metadata": {
      "needs_background": "light"
     },
     "output_type": "display_data"
    }
   ],
   "source": [
    "cmap = plt.cm.Spectral\n",
    "norm = plt.Normalize(vmin=4, vmax=5)\n",
    "_ = plt.scatter(df_merge.YEAR, df_merge.TEMPERATURE_MA, c=cmap(norm(df_merge['Type Number'])))"
   ]
  },
  {
   "cell_type": "code",
   "execution_count": 24,
   "id": "c56f2979",
   "metadata": {},
   "outputs": [],
   "source": [
    "train_len = round(len(df)*.65)\n",
    "train_df = df[0:train_len].dropna()"
   ]
  },
  {
   "cell_type": "code",
   "execution_count": 25,
   "id": "04504b50",
   "metadata": {},
   "outputs": [],
   "source": [
    "test_len = len(df) - train_len\n",
    "test_df = df[test_len:].dropna()"
   ]
  },
  {
   "cell_type": "code",
   "execution_count": 26,
   "id": "60b272f6",
   "metadata": {},
   "outputs": [],
   "source": [
    "train_x = train_df[['PRECIPITATION_MA', 'PRECIPITATION_DEVIATION_STDDEV']]\n",
    "train_y = train_df['PRECIPITATION_INDEX']\n",
    "test_x =  test_df[['PRECIPITATION_MA', 'PRECIPITATION_DEVIATION_STDDEV']]\n",
    "test_y = test_df['PRECIPITATION_INDEX']"
   ]
  },
  {
   "cell_type": "code",
   "execution_count": 27,
   "id": "d167b320",
   "metadata": {},
   "outputs": [
    {
     "data": {
      "text/plain": [
       "SVC()"
      ]
     },
     "execution_count": 27,
     "metadata": {},
     "output_type": "execute_result"
    }
   ],
   "source": [
    "from sklearn import svm\n",
    "clf = svm.SVC()\n",
    "clf.fit(train_x, train_y)"
   ]
  },
  {
   "cell_type": "code",
   "execution_count": 28,
   "id": "b7f633dd",
   "metadata": {},
   "outputs": [],
   "source": [
    "test = []\n",
    "for ma, std in zip(test_x.PRECIPITATION_MA, test_x.PRECIPITATION_DEVIATION_STDDEV):\n",
    "    test.append(clf.predict([[ma, std]])[0])"
   ]
  },
  {
   "cell_type": "code",
   "execution_count": 38,
   "id": "50e41a07",
   "metadata": {},
   "outputs": [
    {
     "data": {
      "text/plain": [
       "'Normal'"
      ]
     },
     "execution_count": 38,
     "metadata": {},
     "output_type": "execute_result"
    }
   ],
   "source": [
    "clf.predict([[10.6, 1.2]])[0]"
   ]
  },
  {
   "cell_type": "code",
   "execution_count": 27,
   "id": "d1d93ba8",
   "metadata": {},
   "outputs": [
    {
     "data": {
      "text/plain": [
       "array(['Normal'], dtype=object)"
      ]
     },
     "execution_count": 27,
     "metadata": {},
     "output_type": "execute_result"
    }
   ],
   "source": [
    "clf.predict([[9.6, 1.2]])"
   ]
  },
  {
   "cell_type": "code",
   "execution_count": 28,
   "id": "dc58ccb8",
   "metadata": {},
   "outputs": [
    {
     "data": {
      "text/plain": [
       "array(['Normal', 'Wetter', 'Drier', nan], dtype=object)"
      ]
     },
     "execution_count": 28,
     "metadata": {},
     "output_type": "execute_result"
    }
   ],
   "source": [
    "df.PRECIPITATION_INDEX.unique()"
   ]
  },
  {
   "cell_type": "code",
   "execution_count": 54,
   "id": "d9e33f0c",
   "metadata": {},
   "outputs": [
    {
     "data": {
      "image/png": "[encoded data removed]",
      "text/plain": [
       "<Figure size 432x288 with 1 Axes>"
      ]
     },
     "metadata": {
      "needs_background": "light"
     },
     "output_type": "display_data"
    }
   ],
   "source": [
    "_ = plt.hist(test)\n",
    "_ = plt.hist(test_y)"
   ]
  },
  {
   "cell_type": "code",
   "execution_count": 103,
   "id": "ac01105d",
   "metadata": {},
   "outputs": [
    {
     "data": {
      "text/plain": [
       "89861"
      ]
     },
     "execution_count": 103,
     "metadata": {},
     "output_type": "execute_result"
    }
   ],
   "source": [
    "len(test)"
   ]
  },
  {
   "cell_type": "code",
   "execution_count": 105,
   "id": "d820b324",
   "metadata": {},
   "outputs": [
    {
     "data": {
      "text/html": [
       "<div>\n",
       "<style scoped>\n",
       "    .dataframe tbody tr th:only-of-type {\n",
       "        vertical-align: middle;\n",
       "    }\n",
       "\n",
       "    .dataframe tbody tr th {\n",
       "        vertical-align: top;\n",
       "    }\n",
       "\n",
       "    .dataframe thead th {\n",
       "        text-align: right;\n",
       "    }\n",
       "</style>\n",
       "<table border=\"1\" class=\"dataframe\">\n",
       "  <thead>\n",
       "    <tr style=\"text-align: right;\">\n",
       "      <th></th>\n",
       "      <th>y</th>\n",
       "      <th>y_hat</th>\n",
       "    </tr>\n",
       "  </thead>\n",
       "  <tbody>\n",
       "    <tr>\n",
       "      <th>48386</th>\n",
       "      <td>Wetter</td>\n",
       "      <td>Wetter</td>\n",
       "    </tr>\n",
       "    <tr>\n",
       "      <th>48387</th>\n",
       "      <td>Normal</td>\n",
       "      <td>Normal</td>\n",
       "    </tr>\n",
       "    <tr>\n",
       "      <th>48388</th>\n",
       "      <td>Normal</td>\n",
       "      <td>Normal</td>\n",
       "    </tr>\n",
       "    <tr>\n",
       "      <th>48389</th>\n",
       "      <td>Wetter</td>\n",
       "      <td>Wetter</td>\n",
       "    </tr>\n",
       "    <tr>\n",
       "      <th>48390</th>\n",
       "      <td>Normal</td>\n",
       "      <td>Normal</td>\n",
       "    </tr>\n",
       "  </tbody>\n",
       "</table>\n",
       "</div>"
      ],
      "text/plain": [
       "            y   y_hat\n",
       "48386  Wetter  Wetter\n",
       "48387  Normal  Normal\n",
       "48388  Normal  Normal\n",
       "48389  Wetter  Wetter\n",
       "48390  Normal  Normal"
      ]
     },
     "execution_count": 105,
     "metadata": {},
     "output_type": "execute_result"
    }
   ],
   "source": [
    "df2 = pd.DataFrame(columns=['y', 'y_hat'])\n",
    "df2.y = test_df.PRECIPITATION_INDEX.dropna()\n",
    "df2.y_hat = test\n",
    "df2.head()"
   ]
  },
  {
   "cell_type": "code",
   "execution_count": 111,
   "id": "a145eca6",
   "metadata": {},
   "outputs": [
    {
     "data": {
      "text/html": [
       "<div>\n",
       "<style scoped>\n",
       "    .dataframe tbody tr th:only-of-type {\n",
       "        vertical-align: middle;\n",
       "    }\n",
       "\n",
       "    .dataframe tbody tr th {\n",
       "        vertical-align: top;\n",
       "    }\n",
       "\n",
       "    .dataframe thead th {\n",
       "        text-align: right;\n",
       "    }\n",
       "</style>\n",
       "<table border=\"1\" class=\"dataframe\">\n",
       "  <thead>\n",
       "    <tr style=\"text-align: right;\">\n",
       "      <th></th>\n",
       "      <th>y</th>\n",
       "      <th>y_hat</th>\n",
       "    </tr>\n",
       "  </thead>\n",
       "  <tbody>\n",
       "    <tr>\n",
       "      <th>48418</th>\n",
       "      <td>Drier</td>\n",
       "      <td>Normal</td>\n",
       "    </tr>\n",
       "    <tr>\n",
       "      <th>48637</th>\n",
       "      <td>Wetter</td>\n",
       "      <td>Normal</td>\n",
       "    </tr>\n",
       "    <tr>\n",
       "      <th>50034</th>\n",
       "      <td>Normal</td>\n",
       "      <td>Wetter</td>\n",
       "    </tr>\n",
       "    <tr>\n",
       "      <th>50687</th>\n",
       "      <td>Normal</td>\n",
       "      <td>Wetter</td>\n",
       "    </tr>\n",
       "    <tr>\n",
       "      <th>51766</th>\n",
       "      <td>Wetter</td>\n",
       "      <td>Normal</td>\n",
       "    </tr>\n",
       "    <tr>\n",
       "      <th>...</th>\n",
       "      <td>...</td>\n",
       "      <td>...</td>\n",
       "    </tr>\n",
       "    <tr>\n",
       "      <th>135236</th>\n",
       "      <td>Normal</td>\n",
       "      <td>Wetter</td>\n",
       "    </tr>\n",
       "    <tr>\n",
       "      <th>135861</th>\n",
       "      <td>Wetter</td>\n",
       "      <td>Normal</td>\n",
       "    </tr>\n",
       "    <tr>\n",
       "      <th>136186</th>\n",
       "      <td>Normal</td>\n",
       "      <td>Wetter</td>\n",
       "    </tr>\n",
       "    <tr>\n",
       "      <th>138095</th>\n",
       "      <td>Wetter</td>\n",
       "      <td>Normal</td>\n",
       "    </tr>\n",
       "    <tr>\n",
       "      <th>138217</th>\n",
       "      <td>Normal</td>\n",
       "      <td>Wetter</td>\n",
       "    </tr>\n",
       "  </tbody>\n",
       "</table>\n",
       "<p>108 rows × 2 columns</p>\n",
       "</div>"
      ],
      "text/plain": [
       "             y   y_hat\n",
       "48418    Drier  Normal\n",
       "48637   Wetter  Normal\n",
       "50034   Normal  Wetter\n",
       "50687   Normal  Wetter\n",
       "51766   Wetter  Normal\n",
       "...        ...     ...\n",
       "135236  Normal  Wetter\n",
       "135861  Wetter  Normal\n",
       "136186  Normal  Wetter\n",
       "138095  Wetter  Normal\n",
       "138217  Normal  Wetter\n",
       "\n",
       "[108 rows x 2 columns]"
      ]
     },
     "execution_count": 111,
     "metadata": {},
     "output_type": "execute_result"
    }
   ],
   "source": [
    "df2[df2.y != df2.y_hat]"
   ]
  },
  {
   "cell_type": "code",
   "execution_count": 110,
   "id": "4d844303",
   "metadata": {},
   "outputs": [
    {
     "data": {
      "text/plain": [
       "0.07812104421795771"
      ]
     },
     "execution_count": 110,
     "metadata": {},
     "output_type": "execute_result"
    }
   ],
   "source": [
    "(len(df2[df2.y != df2.y_hat]) / len(df)) * 100"
   ]
  },
  {
   "cell_type": "code",
   "execution_count": null,
   "id": "ca48e3cf",
   "metadata": {},
   "outputs": [],
   "source": []
  }
 ],
 "metadata": {
  "kernelspec": {
   "display_name": "Python 3",
   "language": "python",
   "name": "python3"
  },
  "language_info": {
   "codemirror_mode": {
    "name": "ipython",
    "version": 3
   },
   "file_extension": ".py",
   "mimetype": "text/x-python",
   "name": "python",
   "nbconvert_exporter": "python",
   "pygments_lexer": "ipython3",
   "version": "3.7.10"
  }
 },
 "nbformat": 4,
 "nbformat_minor": 5
}
